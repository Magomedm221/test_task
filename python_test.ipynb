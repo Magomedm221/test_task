{
  "nbformat": 4,
  "nbformat_minor": 0,
  "metadata": {
    "colab": {
      "provenance": []
    },
    "kernelspec": {
      "name": "python3",
      "display_name": "Python 3"
    },
    "language_info": {
      "name": "python"
    }
  },
  "cells": [
    {
      "cell_type": "code",
      "source": [
        "from abc import ABC, abstractmethod"
      ],
      "metadata": {
        "id": "J9rzy9ZF5TXJ"
      },
      "execution_count": null,
      "outputs": []
    },
    {
      "cell_type": "code",
      "execution_count": null,
      "metadata": {
        "id": "gjK5Uo4m5GXW"
      },
      "outputs": [],
      "source": [
        "# Исходный код\n",
        "class Order:\n",
        "    def __init__(self):\n",
        "        self.items = []\n",
        "        self.quantities = []\n",
        "        self.prices = []\n",
        "        self.status = 'open'\n",
        "\n",
        "    def add_item(self, name, quantity, price):\n",
        "        self.items.append(name)\n",
        "        self.quantities.append(quantity)\n",
        "        self.prices.append(price)\n",
        "\n",
        "    def total_price(self):\n",
        "        total = 0\n",
        "        for i in range(len(self.prices)):\n",
        "            total += self.quantities[i] * self.prices[i]\n",
        "        return total\n",
        "\n",
        "    def pay(self, payment_type, security_code):\n",
        "        if payment_type == 'debit':\n",
        "            print('Какая-то логика реализации debit...')\n",
        "            print(f'Верифицируем код: {security_code}')\n",
        "            self.status = 'paid'\n",
        "        elif payment_type == 'credit':\n",
        "            print('Какая-то логика реализации credit...')\n",
        "            print(f'Верифицируем код: {security_code}')\n",
        "            self.status = 'paid'\n",
        "        else:\n",
        "            raise Exception(f'Неизвестный тип платежа: {payment_type}')\n",
        "\n",
        "def main() -> None:\n",
        "    order = Order()\n",
        "    order.add_item('Keyboard', 1, 50)\n",
        "    order.add_item('SSD', 1, 150)\n",
        "    order.add_item('USB cable', 2, 5)\n",
        "    print(order.total_price())\n",
        "    order.pay('debit', '0372846')\n",
        "\n",
        "if __name__ == \"__main__\":\n",
        "    main()\n"
      ]
    },
    {
      "cell_type": "code",
      "source": [
        "\n",
        "# Отрефакторенный код\n",
        "\n",
        "class PaymentProcessor(ABC):\n",
        "    @abstractmethod\n",
        "    def pay(self, security_code: str):\n",
        "        pass\n",
        "\n",
        "class DebitPaymentProcessor(PaymentProcessor):\n",
        "    def pay(self, security_code: str):\n",
        "        print('Какая-то логика реализации debit...')\n",
        "        print(f'Верифицируем код: {security_code}')\n",
        "\n",
        "class CreditPaymentProcessor(PaymentProcessor):\n",
        "    def pay(self, security_code: str):\n",
        "        print('Какая-то логика реализации credit...')\n",
        "        print(f'Верифицируем код: {security_code}')\n",
        "\n",
        "class BankPaymentProcessor(PaymentProcessor):\n",
        "    def pay(self, security_code: str):\n",
        "        print('Какая-то логика реализации bank...')\n",
        "        print(f'Верифицируем код: {security_code}')\n",
        "\n",
        "class Order:\n",
        "    def __init__(self):\n",
        "        self.items = []\n",
        "        self.quantities = []\n",
        "        self.prices = []\n",
        "        self.status = 'open'\n",
        "\n",
        "    def add_item(self, name, quantity, price):\n",
        "        self.items.append(name)\n",
        "        self.quantities.append(quantity)\n",
        "        self.prices.append(price)\n",
        "\n",
        "    def total_price(self):\n",
        "        return sum(self.quantities[i] * self.prices[i] for i in range(len(self.prices)))\n",
        "\n",
        "    def pay(self, payment_processor: PaymentProcessor, security_code: str):\n",
        "        payment_processor.pay(security_code)\n",
        "        self.status = 'paid'\n",
        "\n",
        "def main() -> None:\n",
        "    order = Order()\n",
        "    order.add_item('Keyboard', 1, 50)\n",
        "    order.add_item('SSD', 1, 150)\n",
        "    order.add_item('USB cable', 2, 5)\n",
        "    print(order.total_price())\n",
        "    payment_processor = DebitPaymentProcessor()\n",
        "    order.pay(payment_processor, '0372846')\n",
        "\n",
        "if __name__ == \"__main__\":\n",
        "    main()\n"
      ],
      "metadata": {
        "id": "1drOZH165L7z"
      },
      "execution_count": null,
      "outputs": []
    }
  ]
}